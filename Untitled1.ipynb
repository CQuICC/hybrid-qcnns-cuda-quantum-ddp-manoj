{
 "cells": [
  {
   "cell_type": "code",
   "execution_count": 7,
   "id": "36ce9382-06f2-4be9-968d-2f198a1fb21e",
   "metadata": {},
   "outputs": [],
   "source": [
    "import torch\n",
    "from torchvision import transforms\n",
    "from torchvision.datasets import MNIST\n",
    "from torch.utils.data import DataLoader\n",
    "\n",
    "# Define the transformation\n",
    "resize_transform = transforms.Resize((32, 32))\n",
    "\n",
    "# Load the MNIST dataset\n",
    "mnist_dataset = MNIST(root='./data', train=True, download=True, transform=transforms.ToTensor())\n",
    "\n",
    "# Apply the resize transformation to the dataset\n",
    "resized_mnist_dataset = [(resize_transform(img), label) for img, label in mnist_dataset]\n",
    "\n",
    "# Create a DataLoader for the resized dataset\n",
    "batch_size = 64\n",
    "resized_mnist_loader = DataLoader(resized_mnist_dataset, batch_size=batch_size, shuffle=True)\n",
    "\n",
    "# Now you can use resized_mnist_loader to iterate over the resized images in batches\n"
   ]
  },
  {
   "cell_type": "code",
   "execution_count": 14,
   "id": "09fbcfc6-526d-47e4-8bac-2e49d22848c1",
   "metadata": {},
   "outputs": [
    {
     "data": {
      "image/png": "[encoded data removed]",
      "text/plain": [
       "<Figure size 1000x300 with 6 Axes>"
      ]
     },
     "metadata": {},
     "output_type": "display_data"
    }
   ],
   "source": [
    "import matplotlib.pyplot as plt\n",
    "n_samples_show = 6\n",
    "\n",
    "data_iter = iter(resized_mnist_loader)\n",
    "fig, axes = plt.subplots(nrows=1, ncols=n_samples_show, figsize=(10, 3))\n",
    "\n",
    "while n_samples_show > 0:\n",
    "    images, targets = data_iter.__next__()\n",
    "\n",
    "    axes[n_samples_show - 1].imshow(images[0, 0].numpy().squeeze(), cmap=\"gray\")\n",
    "    axes[n_samples_show - 1].set_xticks([])\n",
    "    axes[n_samples_show - 1].set_yticks([])\n",
    "    axes[n_samples_show - 1].set_title(\"Labeled: {}\".format(targets[0].item()))\n",
    "\n",
    "    n_samples_show -= 1"
   ]
  },
  {
   "cell_type": "code",
   "execution_count": null,
   "id": "8459671f-5a21-4ed0-b7fe-cbac3824fa20",
   "metadata": {},
   "outputs": [],
   "source": []
  }
 ],
 "metadata": {
  "kernelspec": {
   "display_name": "Python 3 (ipykernel)",
   "language": "python",
   "name": "python3"
  },
  "language_info": {
   "codemirror_mode": {
    "name": "ipython",
    "version": 3
   },
   "file_extension": ".py",
   "mimetype": "text/x-python",
   "name": "python",
   "nbconvert_exporter": "python",
   "pygments_lexer": "ipython3",
   "version": "3.10.12"
  }
 },
 "nbformat": 4,
 "nbformat_minor": 5
}
