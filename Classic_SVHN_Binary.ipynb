{
 "cells": [
  {
   "cell_type": "code",
   "execution_count": 253,
   "id": "4ccd41bf-5ee6-4d82-8929-b11577963467",
   "metadata": {},
   "outputs": [],
   "source": [
    "import torch\n",
    "import torchvision\n",
    "from torchvision import datasets, transforms\n",
    "import torch.nn as nn\n",
    "import torch.optim as optim\n",
    "import numpy as np\n",
    "import time"
   ]
  },
  {
   "cell_type": "code",
   "execution_count": 254,
   "id": "bd8c2a32-a469-488b-8610-1b6d66ca65bb",
   "metadata": {},
   "outputs": [
    {
     "name": "stdout",
     "output_type": "stream",
     "text": [
      "Using downloaded and verified file: ./data/train_32x32.mat\n"
     ]
    }
   ],
   "source": [
    "transform = transforms.Compose(\n",
    "    [transforms.ToTensor(),\n",
    "     transforms.Resize((16, 16))])\n",
    "batch_size = 1\n",
    "sample_count = 1000\n",
    "\n",
    "X_train = datasets.SVHN(root=\"./data\", split='train', download=True, transform=transform)\n",
    "idx = np.append(\n",
    "    np.where(X_train.labels == 0)[0][:sample_count],\n",
    "    np.where(X_train.labels == 1)[0][:sample_count],\n",
    ")\n",
    "X_train.data = X_train.data[idx]\n",
    "X_train.labels = X_train.labels[idx]\n",
    "\n",
    "trainloader = torch.utils.data.DataLoader(X_train, batch_size=1, shuffle=True)"
   ]
  },
  {
   "cell_type": "code",
   "execution_count": 255,
   "id": "1a97e280-927b-465c-8c20-152252326f07",
   "metadata": {},
   "outputs": [
    {
     "name": "stdout",
     "output_type": "stream",
     "text": [
      "Using downloaded and verified file: ./data/test_32x32.mat\n"
     ]
    }
   ],
   "source": [
    "sample_count = 200\n",
    "\n",
    "X_test = datasets.SVHN(root=\"./data\", split='test', download=True, transform=transform)\n",
    "idx = np.append(\n",
    "    np.where(X_test.labels == 0)[0][:sample_count],\n",
    "    np.where(X_test.labels == 1)[0][:sample_count],\n",
    ")\n",
    "X_test.data = X_test.data[idx]\n",
    "X_test.labels = X_test.labels[idx]\n",
    "\n",
    "testloader = torch.utils.data.DataLoader(X_test, batch_size=1, shuffle=True)"
   ]
  },
  {
   "cell_type": "code",
   "execution_count": 256,
   "id": "48027278-4522-49e3-82a8-e02ec4c8bbd0",
   "metadata": {},
   "outputs": [
    {
     "name": "stdout",
     "output_type": "stream",
     "text": [
      "tensor([1])\n"
     ]
    },
    {
     "data": {
      "image/png": "[encoded data removed]",
      "text/plain": [
       "<Figure size 640x480 with 1 Axes>"
      ]
     },
     "metadata": {},
     "output_type": "display_data"
    }
   ],
   "source": [
    "import matplotlib.pyplot as plt\n",
    "import numpy as np\n",
    "\n",
    "# functions to show an image\n",
    "\n",
    "\n",
    "def imshow(img):\n",
    "    # img = img / 2 + 0.5     # unnormalize\n",
    "    npimg = img.numpy()\n",
    "    plt.imshow(np.transpose(npimg, (1, 2, 0)))\n",
    "    plt.show()\n",
    "\n",
    "\n",
    "# get some random training images\n",
    "dataiter = iter(trainloader)\n",
    "images, labels = next(dataiter)\n",
    "\n",
    "print(labels)\n",
    "\n",
    "# show images\n",
    "imshow(torchvision.utils.make_grid(images))"
   ]
  },
  {
   "cell_type": "code",
   "execution_count": 257,
   "id": "9785df35-39a7-4e42-8311-48234e4b9f2a",
   "metadata": {},
   "outputs": [],
   "source": [
    "import torch.nn as nn\n",
    "import torch.nn.functional as F\n",
    "\n",
    "device = torch.device(\"cpu\")\n",
    "\n",
    "class Net(nn.Module):\n",
    "    def __init__(self):\n",
    "        super().__init__()\n",
    "        self.conv1 = nn.Conv2d(3, 6, 5)\n",
    "        self.pool = nn.MaxPool2d(2, 2)\n",
    "        self.conv2 = nn.Conv2d(6, 16, 5)\n",
    "        self.fc1 = nn.Linear(16 * 1 * 1, 128)\n",
    "        self.fc2 = nn.Linear(128, 16)\n",
    "        self.fc3 = nn.Linear(16, 2)\n",
    "\n",
    "    def forward(self, x):\n",
    "        x = self.pool(F.relu(self.conv1(x)))\n",
    "        # print(x.size())\n",
    "        x = self.pool(F.relu(self.conv2(x)))\n",
    "        # print(x.size())\n",
    "        x = torch.flatten(x, 1) # flatten all dimensions except batch\n",
    "        # print(x.size())\n",
    "        x = F.relu(self.fc1(x))\n",
    "        x = F.relu(self.fc2(x))\n",
    "        x = self.fc3(x)\n",
    "        return x\n",
    "\n",
    "\n",
    "net = Net().to(device)"
   ]
  },
  {
   "cell_type": "code",
   "execution_count": 258,
   "id": "c6c1a5bf-61ca-4521-8904-75e2de51cfbd",
   "metadata": {},
   "outputs": [],
   "source": [
    "import torch.optim as optim\n",
    "\n",
    "criterion = nn.CrossEntropyLoss()\n",
    "optimizer = optim.SGD(net.parameters(), lr=0.001, momentum=0.9)"
   ]
  },
  {
   "cell_type": "code",
   "execution_count": 259,
   "id": "c51020d3-bf47-4ca7-ade4-566a8681f8f4",
   "metadata": {},
   "outputs": [
    {
     "name": "stdout",
     "output_type": "stream",
     "text": [
      "[1,   400] loss: 0.696\n",
      "[1,   800] loss: 0.695\n",
      "[1,  1200] loss: 0.696\n",
      "[1,  1600] loss: 0.694\n",
      "[1,  2000] loss: 0.694\n",
      "[2,   400] loss: 0.695\n",
      "[2,   800] loss: 0.695\n",
      "[2,  1200] loss: 0.696\n",
      "[2,  1600] loss: 0.691\n",
      "[2,  2000] loss: 0.695\n",
      "[3,   400] loss: 0.691\n",
      "[3,   800] loss: 0.694\n",
      "[3,  1200] loss: 0.692\n",
      "[3,  1600] loss: 0.694\n",
      "[3,  2000] loss: 0.690\n",
      "[4,   400] loss: 0.685\n",
      "[4,   800] loss: 0.678\n",
      "[4,  1200] loss: 0.651\n",
      "[4,  1600] loss: 0.582\n",
      "[4,  2000] loss: 0.522\n",
      "[5,   400] loss: 0.435\n",
      "[5,   800] loss: 0.445\n",
      "[5,  1200] loss: 0.463\n",
      "[5,  1600] loss: 0.415\n",
      "[5,  2000] loss: 0.399\n",
      "Finished Training\n",
      "time taken:  11.390844583511353\n"
     ]
    }
   ],
   "source": [
    "st_time = time.time()\n",
    "for epoch in range(5):  # loop over the dataset multiple times\n",
    "\n",
    "    running_loss = 0.0\n",
    "    for i, data in enumerate(trainloader, 0):\n",
    "        # get the inputs; data is a list of [inputs, labels]\n",
    "        inputs, labels = data[0].to(device), data[1].to(device)\n",
    "\n",
    "        # zero the parameter gradients\n",
    "        optimizer.zero_grad()\n",
    "\n",
    "        # forward + backward + optimize\n",
    "        outputs = net(inputs)\n",
    "        loss = criterion(outputs, labels)\n",
    "        loss.backward()\n",
    "        optimizer.step()\n",
    "\n",
    "        # print statistics\n",
    "        running_loss += loss.item()\n",
    "        if i % 400 == 399:    # print every 2000 mini-batches\n",
    "            print(f'[{epoch + 1}, {i + 1:5d}] loss: {running_loss / 400:.3f}')\n",
    "            running_loss = 0.0\n",
    "ed_time = time.time()\n",
    "print('Finished Training')\n",
    "print('time taken: ', ed_time - st_time)"
   ]
  },
  {
   "cell_type": "code",
   "execution_count": 260,
   "id": "6afbca09-fbbb-433d-8be9-62b36e3a2a88",
   "metadata": {},
   "outputs": [
    {
     "name": "stdout",
     "output_type": "stream",
     "text": [
      "Accuracy of the network on the 10000 test images: 85 %\n"
     ]
    }
   ],
   "source": [
    "correct = 0\n",
    "total = 0\n",
    "# since we're not training, we don't need to calculate the gradients for our outputs\n",
    "with torch.no_grad():\n",
    "    for data in testloader:\n",
    "        images, labels = data[0].to(device), data[1].to(device)\n",
    "        # calculate outputs by running images through the network\n",
    "        outputs = net(images)\n",
    "        # the class with the highest energy is what we choose as prediction\n",
    "        _, predicted = torch.max(outputs.data, 1)\n",
    "        total += labels.size(0)\n",
    "        correct += (predicted == labels).sum().item()\n",
    "\n",
    "print(f'Accuracy of the network on the 10000 test images: {100 * correct // total} %')"
   ]
  }
 ],
 "metadata": {
  "kernelspec": {
   "display_name": "Python 3 (ipykernel)",
   "language": "python",
   "name": "python3"
  },
  "language_info": {
   "codemirror_mode": {
    "name": "ipython",
    "version": 3
   },
   "file_extension": ".py",
   "mimetype": "text/x-python",
   "name": "python",
   "nbconvert_exporter": "python",
   "pygments_lexer": "ipython3",
   "version": "3.10.12"
  }
 },
 "nbformat": 4,
 "nbformat_minor": 5
}
