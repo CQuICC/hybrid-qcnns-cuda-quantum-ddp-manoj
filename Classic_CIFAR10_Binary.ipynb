{
 "cells": [
  {
   "cell_type": "code",
   "execution_count": 99,
   "id": "4ccd41bf-5ee6-4d82-8929-b11577963467",
   "metadata": {},
   "outputs": [],
   "source": [
    "import torch\n",
    "import torchvision\n",
    "from torchvision import datasets, transforms\n",
    "import torch.nn as nn\n",
    "import torch.optim as optim\n",
    "import numpy as np\n",
    "import time"
   ]
  },
  {
   "cell_type": "code",
   "execution_count": 100,
   "id": "bd8c2a32-a469-488b-8610-1b6d66ca65bb",
   "metadata": {},
   "outputs": [
    {
     "name": "stdout",
     "output_type": "stream",
     "text": [
      "Files already downloaded and verified\n",
      "1000\n"
     ]
    }
   ],
   "source": [
    "transform = transforms.Compose(\n",
    "    [transforms.ToTensor(),\n",
    "     transforms.Normalize((0.5, 0.5, 0.5), (0.5, 0.5, 0.5)),\n",
    "     transforms.Resize((32, 32))])\n",
    "batch_size = 1\n",
    "trainset = datasets.CIFAR10(root=\"./data\", train=True, download=True, transform=transform)\n",
    "\n",
    "\n",
    "cat_idx = trainset.class_to_idx['airplane']\n",
    "ship_idx = trainset.class_to_idx['automobile']\n",
    "\n",
    "n_cat = 500\n",
    "cat_filtered_indices = []\n",
    "for i, (_, label) in enumerate(trainset):\n",
    "    if len(cat_filtered_indices) == n_cat:\n",
    "        break\n",
    "    if label == cat_idx:\n",
    "        cat_filtered_indices.append(i)\n",
    "\n",
    "n_ship = 500\n",
    "ship_filtered_indices = []\n",
    "for i, (_, label) in enumerate(trainset):\n",
    "    if len(ship_filtered_indices) == n_ship:\n",
    "        break\n",
    "    if label == ship_idx:\n",
    "        ship_filtered_indices.append(i)\n",
    "\n",
    "filtered_indices = cat_filtered_indices + ship_filtered_indices\n",
    "print(len(filtered_indices))\n",
    "new_trainset = torch.utils.data.Subset(trainset, filtered_indices)\n",
    "\n",
    "trainloader = torch.utils.data.DataLoader(new_trainset, batch_size=batch_size, shuffle=True, num_workers=2)"
   ]
  },
  {
   "cell_type": "code",
   "execution_count": 101,
   "id": "1a97e280-927b-465c-8c20-152252326f07",
   "metadata": {},
   "outputs": [
    {
     "name": "stdout",
     "output_type": "stream",
     "text": [
      "Files already downloaded and verified\n",
      "200\n"
     ]
    }
   ],
   "source": [
    "testset = torchvision.datasets.CIFAR10(root='./data', train=False, download=True, transform=transform)\n",
    "\n",
    "n_cat = 100\n",
    "cat_filtered_indices = []\n",
    "for i, (_, label) in enumerate(testset):\n",
    "    if len(cat_filtered_indices) == n_cat:\n",
    "        break\n",
    "    if label == cat_idx:\n",
    "        cat_filtered_indices.append(i)\n",
    "\n",
    "n_ship = 100\n",
    "ship_filtered_indices = []\n",
    "for i, (_, label) in enumerate(testset):\n",
    "    if len(ship_filtered_indices) == n_ship:\n",
    "        break\n",
    "    if label == ship_idx:\n",
    "        ship_filtered_indices.append(i)\n",
    "\n",
    "filtered_indices = cat_filtered_indices + ship_filtered_indices\n",
    "print(len(filtered_indices))\n",
    "new_testset = torch.utils.data.Subset(testset, filtered_indices)\n",
    "\n",
    "testloader = torch.utils.data.DataLoader(new_testset, batch_size=batch_size, shuffle=False, num_workers=2)"
   ]
  },
  {
   "cell_type": "code",
   "execution_count": 102,
   "id": "715dba85-f557-4ea8-bbab-057d62a3cc3d",
   "metadata": {},
   "outputs": [],
   "source": [
    "classes = ('airplane', 'automobile', 'bird', 'cat', 'deer', 'dog', 'frog', 'horse', 'ship', 'truck')"
   ]
  },
  {
   "cell_type": "code",
   "execution_count": 103,
   "id": "48027278-4522-49e3-82a8-e02ec4c8bbd0",
   "metadata": {},
   "outputs": [
    {
     "name": "stderr",
     "output_type": "stream",
     "text": [
      "Clipping input data to the valid range for imshow with RGB data ([0..1] for floats or [0..255] for integers).\n"
     ]
    },
    {
     "name": "stdout",
     "output_type": "stream",
     "text": [
      "tensor([0])\n"
     ]
    },
    {
     "data": {
      "image/png": "[encoded data removed]",
      "text/plain": [
       "<Figure size 640x480 with 1 Axes>"
      ]
     },
     "metadata": {},
     "output_type": "display_data"
    },
    {
     "name": "stdout",
     "output_type": "stream",
     "text": [
      "airplane\n"
     ]
    }
   ],
   "source": [
    "import matplotlib.pyplot as plt\n",
    "import numpy as np\n",
    "\n",
    "# functions to show an image\n",
    "\n",
    "\n",
    "def imshow(img):\n",
    "    # img = img / 2 + 0.5     # unnormalize\n",
    "    npimg = img.numpy()\n",
    "    plt.imshow(np.transpose(npimg, (1, 2, 0)))\n",
    "    plt.show()\n",
    "\n",
    "\n",
    "# get some random training images\n",
    "dataiter = iter(trainloader)\n",
    "images, labels = next(dataiter)\n",
    "\n",
    "print(labels)\n",
    "\n",
    "# show images\n",
    "imshow(torchvision.utils.make_grid(images))\n",
    "# print labels\n",
    "print(' '.join(f'{classes[labels[j]]:5s}' for j in range(batch_size)))"
   ]
  },
  {
   "cell_type": "code",
   "execution_count": 104,
   "id": "9785df35-39a7-4e42-8311-48234e4b9f2a",
   "metadata": {},
   "outputs": [],
   "source": [
    "import torch.nn as nn\n",
    "import torch.nn.functional as F\n",
    "\n",
    "device = torch.device(\"cuda\")\n",
    "\n",
    "class Net(nn.Module):\n",
    "    def __init__(self):\n",
    "        super().__init__()\n",
    "        self.conv1 = nn.Conv2d(3, 6, 5)\n",
    "        self.pool = nn.MaxPool2d(2, 2)\n",
    "        self.conv2 = nn.Conv2d(6, 16, 5)\n",
    "        self.fc1 = nn.Linear(16 * 5 * 5, 128)\n",
    "        self.fc2 = nn.Linear(128, 64)\n",
    "        self.fc3 = nn.Linear(64, 2)\n",
    "\n",
    "    def forward(self, x):\n",
    "        x = self.pool(F.relu(self.conv1(x)))\n",
    "        # print(x.size())\n",
    "        x = self.pool(F.relu(self.conv2(x)))\n",
    "        # print(x.size())\n",
    "        x = torch.flatten(x, 1) # flatten all dimensions except batch\n",
    "        # print(x.size())\n",
    "        x = F.relu(self.fc1(x))\n",
    "        x = F.relu(self.fc2(x))\n",
    "        x = self.fc3(x)\n",
    "        return x\n",
    "\n",
    "\n",
    "net = Net().to(device)"
   ]
  },
  {
   "cell_type": "code",
   "execution_count": 105,
   "id": "c6c1a5bf-61ca-4521-8904-75e2de51cfbd",
   "metadata": {},
   "outputs": [],
   "source": [
    "import torch.optim as optim\n",
    "\n",
    "criterion = nn.CrossEntropyLoss()\n",
    "optimizer = optim.SGD(net.parameters(), lr=0.001, momentum=0.9)"
   ]
  },
  {
   "cell_type": "code",
   "execution_count": 106,
   "id": "c51020d3-bf47-4ca7-ade4-566a8681f8f4",
   "metadata": {},
   "outputs": [
    {
     "name": "stdout",
     "output_type": "stream",
     "text": [
      "[1,   400] loss: 0.691\n",
      "[1,   800] loss: 0.614\n",
      "[2,   400] loss: 0.551\n",
      "[2,   800] loss: 0.449\n",
      "[3,   400] loss: 0.428\n",
      "[3,   800] loss: 0.404\n",
      "[4,   400] loss: 0.374\n",
      "[4,   800] loss: 0.362\n",
      "[5,   400] loss: 0.345\n",
      "[5,   800] loss: 0.302\n",
      "[6,   400] loss: 0.286\n",
      "[6,   800] loss: 0.307\n",
      "[7,   400] loss: 0.219\n",
      "[7,   800] loss: 0.283\n",
      "[8,   400] loss: 0.220\n",
      "[8,   800] loss: 0.264\n",
      "[9,   400] loss: 0.135\n",
      "[9,   800] loss: 0.219\n",
      "Finished Training\n",
      "time taken:  11.228023529052734\n"
     ]
    }
   ],
   "source": [
    "st_time = time.time()\n",
    "for epoch in range(9):  # loop over the dataset multiple times\n",
    "\n",
    "    running_loss = 0.0\n",
    "    for i, data in enumerate(trainloader, 0):\n",
    "        # get the inputs; data is a list of [inputs, labels]\n",
    "        inputs, labels = data[0].to(device), data[1].to(device)\n",
    "\n",
    "        # zero the parameter gradients\n",
    "        optimizer.zero_grad()\n",
    "\n",
    "        # forward + backward + optimize\n",
    "        outputs = net(inputs)\n",
    "        loss = criterion(outputs, labels)\n",
    "        loss.backward()\n",
    "        optimizer.step()\n",
    "\n",
    "        # print statistics\n",
    "        running_loss += loss.item()\n",
    "        if i % 400 == 399:    # print every 2000 mini-batches\n",
    "            print(f'[{epoch + 1}, {i + 1:5d}] loss: {running_loss / 400:.3f}')\n",
    "            running_loss = 0.0\n",
    "ed_time = time.time()\n",
    "print('Finished Training')\n",
    "print('time taken: ', ed_time - st_time)"
   ]
  },
  {
   "cell_type": "code",
   "execution_count": 107,
   "id": "6afbca09-fbbb-433d-8be9-62b36e3a2a88",
   "metadata": {},
   "outputs": [
    {
     "name": "stdout",
     "output_type": "stream",
     "text": [
      "Accuracy of the network on the 10000 test images: 86 %\n"
     ]
    }
   ],
   "source": [
    "correct = 0\n",
    "total = 0\n",
    "# since we're not training, we don't need to calculate the gradients for our outputs\n",
    "with torch.no_grad():\n",
    "    for data in testloader:\n",
    "        images, labels = data[0].to(device), data[1].to(device)\n",
    "        # calculate outputs by running images through the network\n",
    "        outputs = net(images)\n",
    "        # the class with the highest energy is what we choose as prediction\n",
    "        _, predicted = torch.max(outputs.data, 1)\n",
    "        total += labels.size(0)\n",
    "        correct += (predicted == labels).sum().item()\n",
    "\n",
    "print(f'Accuracy of the network on the 10000 test images: {100 * correct // total} %')"
   ]
  }
 ],
 "metadata": {
  "kernelspec": {
   "display_name": "Python 3 (ipykernel)",
   "language": "python",
   "name": "python3"
  },
  "language_info": {
   "codemirror_mode": {
    "name": "ipython",
    "version": 3
   },
   "file_extension": ".py",
   "mimetype": "text/x-python",
   "name": "python",
   "nbconvert_exporter": "python",
   "pygments_lexer": "ipython3",
   "version": "3.10.12"
  }
 },
 "nbformat": 4,
 "nbformat_minor": 5
}
