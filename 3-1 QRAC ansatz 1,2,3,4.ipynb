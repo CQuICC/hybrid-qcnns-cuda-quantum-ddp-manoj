{
 "cells": [
  {
   "cell_type": "code",
   "execution_count": 2,
   "metadata": {
    "executionInfo": {
     "elapsed": 2837,
     "status": "ok",
     "timestamp": 1668415131822,
     "user": {
      "displayName": "Guddanti Sai Sakunthala ed18b044",
      "userId": "14721915557065708989"
     },
     "user_tz": -330
    },
    "id": "efK3rGo2_RX3"
   },
   "outputs": [],
   "source": [
    "# importing QISKit\n",
    "from qiskit import BasicAer, IBMQ, Aer\n",
    "from qiskit import QuantumCircuit, ClassicalRegister, QuantumRegister, execute\n",
    "from qiskit.tools.visualization import plot_histogram\n",
    "from qiskit.tools.monitor import job_monitor\n",
    "from qiskit.providers.ibmq import least_busy\n",
    "from qiskit.circuit import ParameterVector, Parameter\n",
    "# imports needed for VQC\n",
    "from qiskit.circuit.library import TwoLocal\n",
    "from qiskit_machine_learning.algorithms import VQC\n",
    "from qiskit_machine_learning.datasets import wine\n",
    "from qiskit_machine_learning.circuit.library import RawFeatureVector\n",
    "from qiskit.circuit.library import RealAmplitudes, ZZFeatureMap, ZFeatureMap, NLocal\n",
    "from qiskit import QuantumCircuit\n",
    "from qiskit.circuit import Parameter\n",
    "from qiskit.utils import QuantumInstance, algorithm_globals\n",
    "from qiskit.algorithms.optimizers import COBYLA,SPSA\n",
    "# useful math functions\n",
    "from math import pi"
   ]
  },
  {
   "cell_type": "code",
   "execution_count": 1,
   "metadata": {
    "colab": {
     "base_uri": "https://localhost:8080/"
    },
    "executionInfo": {
     "elapsed": 26403,
     "status": "ok",
     "timestamp": 1668415123712,
     "user": {
      "displayName": "Guddanti Sai Sakunthala ed18b044",
      "userId": "14721915557065708989"
     },
     "user_tz": -330
    },
    "id": "_7fbweGrj9YU",
    "outputId": "38467453-eed5-4647-d1c4-03aa66dac909"
   },
   "outputs": [
    {
     "name": "stdout",
     "output_type": "stream",
     "text": [
      "Looking in indexes: https://pypi.org/simple, https://us-python.pkg.dev/colab-wheels/public/simple/\n",
      "Collecting qiskit\n",
      "  Downloading qiskit-0.39.2.tar.gz (13 kB)\n",
      "Collecting qiskit-terra==0.22.2\n",
      "  Downloading qiskit_terra-0.22.2-cp37-cp37m-manylinux_2_17_x86_64.manylinux2014_x86_64.whl (4.8 MB)\n",
      "\u001b[K     |████████████████████████████████| 4.8 MB 4.8 MB/s \n",
      "\u001b[?25hCollecting qiskit-aer==0.11.1\n",
      "  Downloading qiskit_aer-0.11.1-cp37-cp37m-manylinux_2_17_x86_64.manylinux2014_x86_64.whl (19.2 MB)\n",
      "\u001b[K     |████████████████████████████████| 19.2 MB 7.1 MB/s \n",
      "\u001b[?25hCollecting qiskit-ibmq-provider==0.19.2\n",
      "  Downloading qiskit_ibmq_provider-0.19.2-py3-none-any.whl (240 kB)\n",
      "\u001b[K     |████████████████████████████████| 240 kB 49.3 MB/s \n",
      "\u001b[?25hRequirement already satisfied: scipy>=1.0 in /usr/local/lib/python3.7/dist-packages (from qiskit-aer==0.11.1->qiskit) (1.7.3)\n",
      "Requirement already satisfied: numpy>=1.16.3 in /usr/local/lib/python3.7/dist-packages (from qiskit-aer==0.11.1->qiskit) (1.21.6)\n",
      "Collecting websocket-client>=1.0.1\n",
      "  Downloading websocket_client-1.4.2-py3-none-any.whl (55 kB)\n",
      "\u001b[K     |████████████████████████████████| 55 kB 3.7 MB/s \n",
      "\u001b[?25hCollecting websockets>=10.0\n",
      "  Downloading websockets-10.4-cp37-cp37m-manylinux_2_5_x86_64.manylinux1_x86_64.manylinux_2_17_x86_64.manylinux2014_x86_64.whl (106 kB)\n",
      "\u001b[K     |████████████████████████████████| 106 kB 38.7 MB/s \n",
      "\u001b[?25hCollecting requests-ntlm>=1.1.0\n",
      "  Downloading requests_ntlm-1.1.0-py2.py3-none-any.whl (5.7 kB)\n",
      "Requirement already satisfied: urllib3>=1.21.1 in /usr/local/lib/python3.7/dist-packages (from qiskit-ibmq-provider==0.19.2->qiskit) (1.24.3)\n",
      "Requirement already satisfied: requests>=2.19 in /usr/local/lib/python3.7/dist-packages (from qiskit-ibmq-provider==0.19.2->qiskit) (2.23.0)\n",
      "Requirement already satisfied: python-dateutil>=2.8.0 in /usr/local/lib/python3.7/dist-packages (from qiskit-ibmq-provider==0.19.2->qiskit) (2.8.2)\n",
      "Requirement already satisfied: dill>=0.3 in /usr/local/lib/python3.7/dist-packages (from qiskit-terra==0.22.2->qiskit) (0.3.6)\n",
      "Collecting retworkx>=0.11.0\n",
      "  Downloading retworkx-0.12.0-py3-none-any.whl (10 kB)\n",
      "Requirement already satisfied: psutil>=5 in /usr/local/lib/python3.7/dist-packages (from qiskit-terra==0.22.2->qiskit) (5.4.8)\n",
      "Collecting stevedore>=3.0.0\n",
      "  Downloading stevedore-3.5.2-py3-none-any.whl (50 kB)\n",
      "\u001b[K     |████████████████████████████████| 50 kB 6.5 MB/s \n",
      "\u001b[?25hCollecting shared-memory38\n",
      "  Downloading shared_memory38-0.1.2-cp37-cp37m-manylinux_2_5_x86_64.manylinux1_x86_64.whl (25 kB)\n",
      "Collecting symengine>=0.9\n",
      "  Downloading symengine-0.9.2-cp37-cp37m-manylinux2010_x86_64.whl (37.5 MB)\n",
      "\u001b[K     |████████████████████████████████| 37.5 MB 1.4 MB/s \n",
      "\u001b[?25hRequirement already satisfied: sympy>=1.3 in /usr/local/lib/python3.7/dist-packages (from qiskit-terra==0.22.2->qiskit) (1.7.1)\n",
      "Requirement already satisfied: importlib-metadata<5.0 in /usr/local/lib/python3.7/dist-packages (from qiskit-terra==0.22.2->qiskit) (4.13.0)\n",
      "Requirement already satisfied: typing-extensions in /usr/local/lib/python3.7/dist-packages (from qiskit-terra==0.22.2->qiskit) (4.1.1)\n",
      "Collecting ply>=3.10\n",
      "  Downloading ply-3.11-py2.py3-none-any.whl (49 kB)\n",
      "\u001b[K     |████████████████████████████████| 49 kB 5.3 MB/s \n",
      "\u001b[?25hCollecting tweedledum<2.0,>=1.1\n",
      "  Downloading tweedledum-1.1.1-cp37-cp37m-manylinux_2_12_x86_64.manylinux2010_x86_64.whl (943 kB)\n",
      "\u001b[K     |████████████████████████████████| 943 kB 57.5 MB/s \n",
      "\u001b[?25hRequirement already satisfied: zipp>=0.5 in /usr/local/lib/python3.7/dist-packages (from importlib-metadata<5.0->qiskit-terra==0.22.2->qiskit) (3.10.0)\n",
      "Requirement already satisfied: six>=1.5 in /usr/local/lib/python3.7/dist-packages (from python-dateutil>=2.8.0->qiskit-ibmq-provider==0.19.2->qiskit) (1.15.0)\n",
      "Requirement already satisfied: idna<3,>=2.5 in /usr/local/lib/python3.7/dist-packages (from requests>=2.19->qiskit-ibmq-provider==0.19.2->qiskit) (2.10)\n",
      "Requirement already satisfied: chardet<4,>=3.0.2 in /usr/local/lib/python3.7/dist-packages (from requests>=2.19->qiskit-ibmq-provider==0.19.2->qiskit) (3.0.4)\n",
      "Requirement already satisfied: certifi>=2017.4.17 in /usr/local/lib/python3.7/dist-packages (from requests>=2.19->qiskit-ibmq-provider==0.19.2->qiskit) (2022.9.24)\n",
      "Collecting cryptography>=1.3\n",
      "  Downloading cryptography-38.0.3-cp36-abi3-manylinux_2_24_x86_64.whl (4.1 MB)\n",
      "\u001b[K     |████████████████████████████████| 4.1 MB 37.2 MB/s \n",
      "\u001b[?25hCollecting ntlm-auth>=1.0.2\n",
      "  Downloading ntlm_auth-1.5.0-py2.py3-none-any.whl (29 kB)\n",
      "Requirement already satisfied: cffi>=1.12 in /usr/local/lib/python3.7/dist-packages (from cryptography>=1.3->requests-ntlm>=1.1.0->qiskit-ibmq-provider==0.19.2->qiskit) (1.15.1)\n",
      "Requirement already satisfied: pycparser in /usr/local/lib/python3.7/dist-packages (from cffi>=1.12->cryptography>=1.3->requests-ntlm>=1.1.0->qiskit-ibmq-provider==0.19.2->qiskit) (2.21)\n",
      "Collecting rustworkx==0.12.0\n",
      "  Downloading rustworkx-0.12.0-cp37-cp37m-manylinux_2_17_x86_64.manylinux2014_x86_64.whl (1.9 MB)\n",
      "\u001b[K     |████████████████████████████████| 1.9 MB 47.9 MB/s \n",
      "\u001b[?25hCollecting pbr!=2.1.0,>=2.0.0\n",
      "  Downloading pbr-5.11.0-py2.py3-none-any.whl (112 kB)\n",
      "\u001b[K     |████████████████████████████████| 112 kB 48.9 MB/s \n",
      "\u001b[?25hRequirement already satisfied: mpmath>=0.19 in /usr/local/lib/python3.7/dist-packages (from sympy>=1.3->qiskit-terra==0.22.2->qiskit) (1.2.1)\n",
      "Building wheels for collected packages: qiskit\n",
      "  Building wheel for qiskit (setup.py) ... \u001b[?25l\u001b[?25hdone\n",
      "  Created wheel for qiskit: filename=qiskit-0.39.2-py3-none-any.whl size=12224 sha256=df4fbdecf3ff8ed3f8c12145cf5d920e167cbb0c02b4ba86d41081917c43f662\n",
      "  Stored in directory: /root/.cache/pip/wheels/30/dc/90/0ee55ccffd13c16db1abd4c43028f7c9cedb5576b190402190\n",
      "Successfully built qiskit\n",
      "Installing collected packages: rustworkx, pbr, tweedledum, symengine, stevedore, shared-memory38, retworkx, ply, ntlm-auth, cryptography, websockets, websocket-client, requests-ntlm, qiskit-terra, qiskit-ibmq-provider, qiskit-aer, qiskit\n",
      "Successfully installed cryptography-38.0.3 ntlm-auth-1.5.0 pbr-5.11.0 ply-3.11 qiskit-0.39.2 qiskit-aer-0.11.1 qiskit-ibmq-provider-0.19.2 qiskit-terra-0.22.2 requests-ntlm-1.1.0 retworkx-0.12.0 rustworkx-0.12.0 shared-memory38-0.1.2 stevedore-3.5.2 symengine-0.9.2 tweedledum-1.1.1 websocket-client-1.4.2 websockets-10.4\n",
      "Looking in indexes: https://pypi.org/simple, https://us-python.pkg.dev/colab-wheels/public/simple/\n",
      "Collecting qiskit_machine_learning\n",
      "  Downloading qiskit_machine_learning-0.5.0-py3-none-any.whl (152 kB)\n",
      "\u001b[K     |████████████████████████████████| 152 kB 5.1 MB/s \n",
      "\u001b[?25hRequirement already satisfied: scipy>=1.4 in /usr/local/lib/python3.7/dist-packages (from qiskit_machine_learning) (1.7.3)\n",
      "Requirement already satisfied: qiskit-terra>=0.22 in /usr/local/lib/python3.7/dist-packages (from qiskit_machine_learning) (0.22.2)\n",
      "Requirement already satisfied: numpy>=1.17 in /usr/local/lib/python3.7/dist-packages (from qiskit_machine_learning) (1.21.6)\n",
      "Collecting dill<0.3.6,>=0.3.4\n",
      "  Downloading dill-0.3.5.1-py2.py3-none-any.whl (95 kB)\n",
      "\u001b[K     |████████████████████████████████| 95 kB 4.9 MB/s \n",
      "\u001b[?25hRequirement already satisfied: scikit-learn>=0.20.0 in /usr/local/lib/python3.7/dist-packages (from qiskit_machine_learning) (1.0.2)\n",
      "Requirement already satisfied: psutil>=5 in /usr/local/lib/python3.7/dist-packages (from qiskit_machine_learning) (5.4.8)\n",
      "Requirement already satisfied: fastdtw in /usr/local/lib/python3.7/dist-packages (from qiskit_machine_learning) (0.3.4)\n",
      "Requirement already satisfied: setuptools>=40.1.0 in /usr/local/lib/python3.7/dist-packages (from qiskit_machine_learning) (57.4.0)\n",
      "Requirement already satisfied: python-dateutil>=2.8.0 in /usr/local/lib/python3.7/dist-packages (from qiskit-terra>=0.22->qiskit_machine_learning) (2.8.2)\n",
      "Requirement already satisfied: tweedledum<2.0,>=1.1 in /usr/local/lib/python3.7/dist-packages (from qiskit-terra>=0.22->qiskit_machine_learning) (1.1.1)\n",
      "Requirement already satisfied: shared-memory38 in /usr/local/lib/python3.7/dist-packages (from qiskit-terra>=0.22->qiskit_machine_learning) (0.1.2)\n",
      "Requirement already satisfied: importlib-metadata<5.0 in /usr/local/lib/python3.7/dist-packages (from qiskit-terra>=0.22->qiskit_machine_learning) (4.13.0)\n",
      "Requirement already satisfied: retworkx>=0.11.0 in /usr/local/lib/python3.7/dist-packages (from qiskit-terra>=0.22->qiskit_machine_learning) (0.12.0)\n",
      "Requirement already satisfied: stevedore>=3.0.0 in /usr/local/lib/python3.7/dist-packages (from qiskit-terra>=0.22->qiskit_machine_learning) (3.5.2)\n",
      "Requirement already satisfied: symengine>=0.9 in /usr/local/lib/python3.7/dist-packages (from qiskit-terra>=0.22->qiskit_machine_learning) (0.9.2)\n",
      "Requirement already satisfied: ply>=3.10 in /usr/local/lib/python3.7/dist-packages (from qiskit-terra>=0.22->qiskit_machine_learning) (3.11)\n",
      "Requirement already satisfied: sympy>=1.3 in /usr/local/lib/python3.7/dist-packages (from qiskit-terra>=0.22->qiskit_machine_learning) (1.7.1)\n",
      "Requirement already satisfied: typing-extensions in /usr/local/lib/python3.7/dist-packages (from qiskit-terra>=0.22->qiskit_machine_learning) (4.1.1)\n",
      "Requirement already satisfied: zipp>=0.5 in /usr/local/lib/python3.7/dist-packages (from importlib-metadata<5.0->qiskit-terra>=0.22->qiskit_machine_learning) (3.10.0)\n",
      "Requirement already satisfied: six>=1.5 in /usr/local/lib/python3.7/dist-packages (from python-dateutil>=2.8.0->qiskit-terra>=0.22->qiskit_machine_learning) (1.15.0)\n",
      "Requirement already satisfied: rustworkx==0.12.0 in /usr/local/lib/python3.7/dist-packages (from retworkx>=0.11.0->qiskit-terra>=0.22->qiskit_machine_learning) (0.12.0)\n",
      "Requirement already satisfied: threadpoolctl>=2.0.0 in /usr/local/lib/python3.7/dist-packages (from scikit-learn>=0.20.0->qiskit_machine_learning) (3.1.0)\n",
      "Requirement already satisfied: joblib>=0.11 in /usr/local/lib/python3.7/dist-packages (from scikit-learn>=0.20.0->qiskit_machine_learning) (1.2.0)\n",
      "Requirement already satisfied: pbr!=2.1.0,>=2.0.0 in /usr/local/lib/python3.7/dist-packages (from stevedore>=3.0.0->qiskit-terra>=0.22->qiskit_machine_learning) (5.11.0)\n",
      "Requirement already satisfied: mpmath>=0.19 in /usr/local/lib/python3.7/dist-packages (from sympy>=1.3->qiskit-terra>=0.22->qiskit_machine_learning) (1.2.1)\n",
      "Installing collected packages: dill, qiskit-machine-learning\n",
      "  Attempting uninstall: dill\n",
      "    Found existing installation: dill 0.3.6\n",
      "    Uninstalling dill-0.3.6:\n",
      "      Successfully uninstalled dill-0.3.6\n",
      "Successfully installed dill-0.3.5.1 qiskit-machine-learning-0.5.0\n"
     ]
    }
   ],
   "source": [
    "!pip install qiskit\n",
    "!pip install qiskit_machine_learning"
   ]
  },
  {
   "cell_type": "code",
   "execution_count": 3,
   "metadata": {
    "executionInfo": {
     "elapsed": 934,
     "status": "ok",
     "timestamp": 1668415135840,
     "user": {
      "displayName": "Guddanti Sai Sakunthala ed18b044",
      "userId": "14721915557065708989"
     },
     "user_tz": -330
    },
    "id": "CZVr2o4b_WIt"
   },
   "outputs": [],
   "source": [
    "import numpy as np\n",
    "train_data = np.load('train_data.npy')\n",
    "train_labels = np.load('train_labels.npy')\n",
    "test_data = np.load('test_data.npy')\n",
    "test_labels = np.load('test_labels.npy')"
   ]
  },
  {
   "cell_type": "code",
   "execution_count": 4,
   "metadata": {
    "executionInfo": {
     "elapsed": 405,
     "status": "ok",
     "timestamp": 1668415139030,
     "user": {
      "displayName": "Guddanti Sai Sakunthala ed18b044",
      "userId": "14721915557065708989"
     },
     "user_tz": -330
    },
    "id": "sCaXPIdx4En1"
   },
   "outputs": [],
   "source": [
    "train_data_neighbours = train_data[:,2]\n",
    "train_neighbour_bits = []\n",
    "for i in range(len(train_data)):\n",
    "  if train_data_neighbours[i]<=10:\n",
    "    train_neighbour_bits.append('00')\n",
    "  elif train_data_neighbours[i]<= 20 and train_data_neighbours[i]>10:\n",
    "    train_neighbour_bits.append('01')\n",
    "  elif train_data_neighbours[i]<=100 and train_data_neighbours[i]>20:\n",
    "    train_neighbour_bits.append('10')\n",
    "  else:\n",
    "    train_neighbour_bits.append('11')\n",
    "test_data_neighbours = test_data[:,2]\n",
    "test_neighbour_bits = []\n",
    "for i in range(len(test_data)):\n",
    "  if test_data_neighbours[i]<=10:\n",
    "    test_neighbour_bits.append('00')\n",
    "  elif test_data_neighbours[i]<=20 and test_data_neighbours[i]>10:\n",
    "    test_neighbour_bits.append('01')\n",
    "  elif test_data_neighbours[i]<=100 and test_data_neighbours[i]>20:\n",
    "    test_neighbour_bits.append('10')\n",
    "  else:\n",
    "    test_neighbour_bits.append('11')\n",
    "\n",
    "train_feas2_bits = np.array(train_neighbour_bits)\n",
    "test_feas2_bits = np.array(test_neighbour_bits)"
   ]
  },
  {
   "cell_type": "code",
   "execution_count": 5,
   "metadata": {
    "executionInfo": {
     "elapsed": 326,
     "status": "ok",
     "timestamp": 1668415143146,
     "user": {
      "displayName": "Guddanti Sai Sakunthala ed18b044",
      "userId": "14721915557065708989"
     },
     "user_tz": -330
    },
    "id": "tOHh1SXn6RFW"
   },
   "outputs": [],
   "source": [
    "train_data_neighbours = train_data[:,6]\n",
    "train_neighbour_bits = []\n",
    "for i in range(len(train_data)):\n",
    "  if train_data_neighbours[i]<=10:\n",
    "    train_neighbour_bits.append('00')\n",
    "  elif train_data_neighbours[i]<= 20 and train_data_neighbours[i]>10:\n",
    "    train_neighbour_bits.append('01')\n",
    "  elif train_data_neighbours[i]<=100 and train_data_neighbours[i]>20:\n",
    "    train_neighbour_bits.append('10')\n",
    "  else:\n",
    "    train_neighbour_bits.append('11')\n",
    "test_data_neighbours = test_data[:,6]\n",
    "test_neighbour_bits = []\n",
    "for i in range(len(test_data)):\n",
    "  if test_data_neighbours[i]<=10:\n",
    "    test_neighbour_bits.append('00')\n",
    "  elif test_data_neighbours[i]<=20 and test_data_neighbours[i]>10:\n",
    "    test_neighbour_bits.append('01')\n",
    "  elif test_data_neighbours[i]<=100 and test_data_neighbours[i]>20:\n",
    "    test_neighbour_bits.append('10')\n",
    "  else:\n",
    "    test_neighbour_bits.append('11')\n",
    "\n",
    "train_feas6_bits = np.array(train_neighbour_bits)\n",
    "test_feas6_bits = np.array(test_neighbour_bits)"
   ]
  },
  {
   "cell_type": "code",
   "execution_count": 6,
   "metadata": {
    "executionInfo": {
     "elapsed": 1170,
     "status": "ok",
     "timestamp": 1668415146498,
     "user": {
      "displayName": "Guddanti Sai Sakunthala ed18b044",
      "userId": "14721915557065708989"
     },
     "user_tz": -330
    },
    "id": "oudN8lGH7gh0"
   },
   "outputs": [],
   "source": [
    "train_data_neighbours = train_data[:,5]\n",
    "train_neighbour_bits = []\n",
    "for i in range(len(train_data)):\n",
    "  if train_data_neighbours[i]<=10:\n",
    "    train_neighbour_bits.append('00')\n",
    "  elif train_data_neighbours[i]<= 25 and train_data_neighbours[i]>10:\n",
    "    train_neighbour_bits.append('01')\n",
    "  elif train_data_neighbours[i]<=100 and train_data_neighbours[i]>25:\n",
    "    train_neighbour_bits.append('10')\n",
    "  else:\n",
    "    train_neighbour_bits.append('11')\n",
    "test_data_neighbours = test_data[:,5]\n",
    "test_neighbour_bits = []\n",
    "for i in range(len(test_data)):\n",
    "  if test_data_neighbours[i]<=10:\n",
    "    test_neighbour_bits.append('00')\n",
    "  elif test_data_neighbours[i]<=25 and test_data_neighbours[i]>10:\n",
    "    test_neighbour_bits.append('01')\n",
    "  elif test_data_neighbours[i]<=100 and test_data_neighbours[i]>25:\n",
    "    test_neighbour_bits.append('10')\n",
    "  else:\n",
    "    test_neighbour_bits.append('11')\n",
    "\n",
    "train_feas5_bits = np.array(train_neighbour_bits)\n",
    "test_feas5_bits = np.array(test_neighbour_bits)"
   ]
  },
  {
   "cell_type": "code",
   "execution_count": 7,
   "metadata": {
    "executionInfo": {
     "elapsed": 552,
     "status": "ok",
     "timestamp": 1668415151433,
     "user": {
      "displayName": "Guddanti Sai Sakunthala ed18b044",
      "userId": "14721915557065708989"
     },
     "user_tz": -330
    },
    "id": "vqmX2klx7wGp"
   },
   "outputs": [],
   "source": [
    "train_data_bits = np.column_stack((train_feas2_bits,train_feas5_bits,train_feas6_bits))\n",
    "test_data_bits = np.column_stack((test_feas2_bits,test_feas5_bits,test_feas6_bits))"
   ]
  },
  {
   "cell_type": "code",
   "execution_count": 8,
   "metadata": {
    "executionInfo": {
     "elapsed": 584,
     "status": "ok",
     "timestamp": 1668415224597,
     "user": {
      "displayName": "Guddanti Sai Sakunthala ed18b044",
      "userId": "14721915557065708989"
     },
     "user_tz": -330
    },
    "id": "aXRiQ6tx2s6H"
   },
   "outputs": [],
   "source": [
    "from math import sqrt, cos, acos\n",
    "theta = acos(sqrt(0.5 + sqrt(3.0)/6.0))\n",
    "num_features = 3\n",
    "train_angles1 = np.zeros((len(train_data_bits),3*num_features))\n",
    "for i in range(len(train_data)):\n",
    "  for j in range(num_features):\n",
    "    if train_data_bits[i][j] == '00':\n",
    "      train_angles1[i][j] = 2*theta\n",
    "      train_angles1[i][j+1] = pi/4\n",
    "      train_angles1[i][j+2] = -pi/4\n",
    "    elif train_data_bits[i][j] == '10':\n",
    "      train_angles1[i][j] = pi-2*theta\n",
    "      train_angles1[i][j+1] = 3*pi/4\n",
    "      train_angles1[i][j+2] = -3*pi/4\n",
    "    elif train_data_bits[i][j] == '11':\n",
    "      train_angles1[i][j] = 2*theta\n",
    "      train_angles1[i][j+1] = -3*pi/4\n",
    "      train_angles1[i][j+2] = 3*pi/4\n",
    "    else:\n",
    "      train_angles1[i][j] = pi-2*theta\n",
    "      train_angles1[i][j+1] = -pi/4\n",
    "      train_angles1[i][j+2] = pi/4\n",
    "\n",
    "test_angles1 = np.zeros((len(test_data_bits),3*num_features))\n",
    "for i in range(len(test_data)):\n",
    "  for j in range(num_features):\n",
    "    if test_data_bits[i][j] == '00':\n",
    "      test_angles1[i][j] = 2*theta\n",
    "      test_angles1[i][j+1] = pi/4\n",
    "      test_angles1[i][j+2] = -pi/4\n",
    "    elif test_data_bits[i][j] == '10':\n",
    "      test_angles1[i][j] = pi-2*theta\n",
    "      test_angles1[i][j+1] = 3*pi/4\n",
    "      test_angles1[i][j+2] = -3*pi/4\n",
    "    elif test_data_bits[i][j] == '11':\n",
    "      test_angles1[i][j] = 2*theta\n",
    "      test_angles1[i][j+1] = -3*pi/4\n",
    "      test_angles1[i][j+2] = 3*pi/4\n",
    "    else:\n",
    "      test_angles1[i][j] = pi-2*theta\n",
    "      test_angles1[i][j+1] = -pi/4\n",
    "      test_angles1[i][j+2] = pi/4"
   ]
  },
  {
   "cell_type": "code",
   "execution_count": 9,
   "metadata": {
    "executionInfo": {
     "elapsed": 698,
     "status": "ok",
     "timestamp": 1668415229431,
     "user": {
      "displayName": "Guddanti Sai Sakunthala ed18b044",
      "userId": "14721915557065708989"
     },
     "user_tz": -330
    },
    "id": "S21QU002lgNx"
   },
   "outputs": [],
   "source": [
    "from sklearn.metrics import classification_report, confusion_matrix\n",
    "train_labels_svm = train_labels[:,0]\n",
    "test_labels_svm = test_labels[:,0]"
   ]
  },
  {
   "cell_type": "code",
   "execution_count": 10,
   "metadata": {
    "colab": {
     "base_uri": "https://localhost:8080/",
     "height": 249
    },
    "executionInfo": {
     "elapsed": 626,
     "status": "ok",
     "timestamp": 1668415263152,
     "user": {
      "displayName": "Guddanti Sai Sakunthala ed18b044",
      "userId": "14721915557065708989"
     },
     "user_tz": -330
    },
    "id": "NyAVyqzQI5XC",
    "outputId": "be339314-751f-4476-a226-7b20d982c726"
   },
   "outputs": [
    {
     "name": "stderr",
     "output_type": "stream",
     "text": [
      "/usr/local/lib/python3.7/dist-packages/ipykernel_launcher.py:3: DeprecationWarning: The QuantumCircuit.u3 method is deprecated as of 0.16.0. It will be removed no earlier than 3 months after the release date. You should use QuantumCircuit.u instead, which acts identically. Alternatively, you can decompose u3 in terms of QuantumCircuit.p and QuantumCircuit.sx: u3(ϴ,φ,λ) = p(φ+π) sx p(ϴ+π) sx p(λ) (2 pulses on hardware).\n",
      "  This is separate from the ipykernel package so we can avoid doing imports until\n",
      "/usr/local/lib/python3.7/dist-packages/ipykernel_launcher.py:4: DeprecationWarning: The QuantumCircuit.u3 method is deprecated as of 0.16.0. It will be removed no earlier than 3 months after the release date. You should use QuantumCircuit.u instead, which acts identically. Alternatively, you can decompose u3 in terms of QuantumCircuit.p and QuantumCircuit.sx: u3(ϴ,φ,λ) = p(φ+π) sx p(ϴ+π) sx p(λ) (2 pulses on hardware).\n",
      "  after removing the cwd from sys.path.\n",
      "/usr/local/lib/python3.7/dist-packages/ipykernel_launcher.py:5: DeprecationWarning: The QuantumCircuit.u3 method is deprecated as of 0.16.0. It will be removed no earlier than 3 months after the release date. You should use QuantumCircuit.u instead, which acts identically. Alternatively, you can decompose u3 in terms of QuantumCircuit.p and QuantumCircuit.sx: u3(ϴ,φ,λ) = p(φ+π) sx p(ϴ+π) sx p(λ) (2 pulses on hardware).\n",
      "  \"\"\"\n"
     ]
    },
    {
     "data": {
      "text/html": [
       "<pre style=\"word-wrap: normal;white-space: pre;background: #fff0;line-height: 1.1;font-family: &quot;Courier New&quot;,Courier,monospace\">     ┌────────────────────┐\n",
       "q_0: ┤ U3(x[0],x[1],x[2]) ├\n",
       "     ├────────────────────┤\n",
       "q_1: ┤ U3(x[3],x[4],x[5]) ├\n",
       "     ├────────────────────┤\n",
       "q_2: ┤ U3(x[6],x[7],x[8]) ├\n",
       "     └────────────────────┘</pre>"
      ],
      "text/plain": [
       "     ┌────────────────────┐\n",
       "q_0: ┤ U3(x[0],x[1],x[2]) ├\n",
       "     ├────────────────────┤\n",
       "q_1: ┤ U3(x[3],x[4],x[5]) ├\n",
       "     ├────────────────────┤\n",
       "q_2: ┤ U3(x[6],x[7],x[8]) ├\n",
       "     └────────────────────┘"
      ]
     },
     "execution_count": 10,
     "metadata": {},
     "output_type": "execute_result"
    }
   ],
   "source": [
    "param2 = ParameterVector('x',3*num_features)\n",
    "fm = QuantumCircuit(num_features)\n",
    "fm.u3(param2[0], param2[1], param2[2], 0)\n",
    "fm.u3(param2[3], param2[4], param2[5], 1)\n",
    "fm.u3(param2[6], param2[7], param2[8], 2)\n",
    "fm.draw()"
   ]
  },
  {
   "cell_type": "markdown",
   "metadata": {
    "id": "TFiYAoe5UZxo"
   },
   "source": [
    "#Ansatz1"
   ]
  },
  {
   "cell_type": "code",
   "execution_count": 11,
   "metadata": {
    "colab": {
     "base_uri": "https://localhost:8080/"
    },
    "executionInfo": {
     "elapsed": 690694,
     "status": "ok",
     "timestamp": 1668415978239,
     "user": {
      "displayName": "Guddanti Sai Sakunthala ed18b044",
      "userId": "14721915557065708989"
     },
     "user_tz": -330
    },
    "id": "KUsPBRZMAyop",
    "outputId": "287caf05-590c-4068-feda-85dc0833eb40"
   },
   "outputs": [
    {
     "name": "stderr",
     "output_type": "stream",
     "text": [
      "/usr/local/lib/python3.7/dist-packages/ipykernel_launcher.py:9: DeprecationWarning: The quantum_instance argument is deprecated as of version 0.5.0 and will be removed no sooner than 3 months after the release. Instead use the sampler argument.\n",
      "  if __name__ == '__main__':\n"
     ]
    },
    {
     "name": "stdout",
     "output_type": "stream",
     "text": [
      "training time:  421.3069324493408\n",
      "testing time:  268.26406264305115\n",
      "              precision    recall  f1-score   support\n",
      "\n",
      "           0       0.95      0.96      0.95     10000\n",
      "           1       0.51      0.46      0.48      1000\n",
      "\n",
      "    accuracy                           0.91     11000\n",
      "   macro avg       0.73      0.71      0.72     11000\n",
      "weighted avg       0.91      0.91      0.91     11000\n",
      "\n",
      "[[9553  447]\n",
      " [ 539  461]]\n"
     ]
    }
   ],
   "source": [
    "import ansatz19 as ansatz_19\n",
    "from time import time\n",
    "seed = 1005\n",
    "ansatz1 = ansatz_19.get_ansatz(1,3,2)\n",
    "vqc_1 = VQC(feature_map=fm,\n",
    "            ansatz=ansatz1,\n",
    "            optimizer=COBYLA(maxiter=100),\n",
    "            quantum_instance=QuantumInstance(BasicAer.get_backend('statevector_simulator'),\n",
    "                                            seed_simulator=seed, seed_transpiler= seed)\n",
    "            )\n",
    "start_time_train = time()\n",
    "vqc_1.fit(train_angles1,train_labels)\n",
    "end_time_train = time()\n",
    "y_1 = vqc_1.predict(test_angles1)\n",
    "end_time_test = time()\n",
    "label_1 = np.delete(y_1,1,1)\n",
    "print('training time: ',end_time_train-start_time_train)\n",
    "print('testing time: ',end_time_test-end_time_train)\n",
    "print(classification_report(test_labels_svm,label_1))\n",
    "print(confusion_matrix(test_labels_svm,label_1))"
   ]
  },
  {
   "cell_type": "markdown",
   "metadata": {
    "id": "VFT_0EidUlie"
   },
   "source": [
    "#Ansatz 2"
   ]
  },
  {
   "cell_type": "code",
   "execution_count": 12,
   "metadata": {
    "colab": {
     "base_uri": "https://localhost:8080/"
    },
    "executionInfo": {
     "elapsed": 198871,
     "status": "ok",
     "timestamp": 1668416699045,
     "user": {
      "displayName": "Guddanti Sai Sakunthala ed18b044",
      "userId": "14721915557065708989"
     },
     "user_tz": -330
    },
    "id": "rwgGfMuzXHOj",
    "outputId": "86bb6e80-7bd6-43f6-e89a-bacba3751209"
   },
   "outputs": [
    {
     "name": "stdout",
     "output_type": "stream",
     "text": [
      "training time:  428.7924144268036\n",
      "testing time:  289.4005835056305\n",
      "              precision    recall  f1-score   support\n",
      "\n",
      "           0       0.95      0.98      0.96     10000\n",
      "           1       0.68      0.52      0.59      1000\n",
      "\n",
      "    accuracy                           0.93     11000\n",
      "   macro avg       0.82      0.75      0.78     11000\n",
      "weighted avg       0.93      0.93      0.93     11000\n",
      "\n",
      "[[9760  240]\n",
      " [ 481  519]]\n"
     ]
    }
   ],
   "source": [
    "ansatz2 = ansatz_19.get_ansatz(2,3,2)\n",
    "vqc_1 = VQC(feature_map=fm,\n",
    "            ansatz=ansatz2,\n",
    "            optimizer=COBYLA(maxiter=100),\n",
    "            quantum_instance=QuantumInstance(BasicAer.get_backend('statevector_simulator'),\n",
    "                                            seed_simulator=seed, seed_transpiler= seed)\n",
    "            )\n",
    "start_time_train = time()\n",
    "vqc_1.fit(train_angles1,train_labels)\n",
    "end_time_train = time()\n",
    "y_1 = vqc_1.predict(test_angles1)\n",
    "end_time_test = time()\n",
    "label_1 = np.delete(y_1,1,1)\n",
    "print('training time: ',end_time_train-start_time_train)\n",
    "print('testing time: ',end_time_test-end_time_train)\n",
    "print(classification_report(test_labels_svm,label_1))\n",
    "print(confusion_matrix(test_labels_svm,label_1))"
   ]
  },
  {
   "cell_type": "markdown",
   "metadata": {
    "id": "W4dyaC44oVWD"
   },
   "source": [
    "#Ansatz3"
   ]
  },
  {
   "cell_type": "code",
   "execution_count": 13,
   "metadata": {
    "colab": {
     "base_uri": "https://localhost:8080/"
    },
    "executionInfo": {
     "elapsed": 921382,
     "status": "ok",
     "timestamp": 1668417721199,
     "user": {
      "displayName": "Guddanti Sai Sakunthala ed18b044",
      "userId": "14721915557065708989"
     },
     "user_tz": -330
    },
    "id": "9AxVpGRbBPC7",
    "outputId": "a32d1bd0-58d1-4cae-e76d-4c51e60693c3"
   },
   "outputs": [
    {
     "name": "stdout",
     "output_type": "stream",
     "text": [
      "training time:  588.2976064682007\n",
      "testing time:  332.1376066207886\n",
      "              precision    recall  f1-score   support\n",
      "\n",
      "           0       0.95      0.96      0.95     10000\n",
      "           1       0.51      0.46      0.48      1000\n",
      "\n",
      "    accuracy                           0.91     11000\n",
      "   macro avg       0.73      0.71      0.72     11000\n",
      "weighted avg       0.91      0.91      0.91     11000\n",
      "\n",
      "[[9553  447]\n",
      " [ 539  461]]\n"
     ]
    }
   ],
   "source": [
    "ansatz3 = ansatz_19.get_ansatz(3,3,2)\n",
    "vqc_1 = VQC(feature_map=fm,\n",
    "            ansatz=ansatz3,\n",
    "            optimizer=COBYLA(maxiter=100),\n",
    "            quantum_instance=QuantumInstance(BasicAer.get_backend('statevector_simulator'),\n",
    "                                            seed_simulator=seed, seed_transpiler= seed)\n",
    "            )\n",
    "start_time_train = time()\n",
    "vqc_1.fit(train_angles1,train_labels)\n",
    "end_time_train = time()\n",
    "y_1 = vqc_1.predict(test_angles1)\n",
    "end_time_test = time()\n",
    "label_1 = np.delete(y_1,1,1)\n",
    "print('training time: ',end_time_train-start_time_train)\n",
    "print('testing time: ',end_time_test-end_time_train)\n",
    "print(classification_report(test_labels_svm,label_1))\n",
    "print(confusion_matrix(test_labels_svm,label_1))"
   ]
  },
  {
   "cell_type": "markdown",
   "metadata": {
    "id": "riJmG-Unoi6J"
   },
   "source": [
    "#Ansatz4"
   ]
  },
  {
   "cell_type": "code",
   "execution_count": 14,
   "metadata": {
    "colab": {
     "base_uri": "https://localhost:8080/"
    },
    "executionInfo": {
     "elapsed": 931052,
     "status": "ok",
     "timestamp": 1668418652244,
     "user": {
      "displayName": "Guddanti Sai Sakunthala ed18b044",
      "userId": "14721915557065708989"
     },
     "user_tz": -330
    },
    "id": "2VNf9XyQlp-J",
    "outputId": "aeed2273-8309-4687-9db7-fd546fec8ffb"
   },
   "outputs": [
    {
     "name": "stdout",
     "output_type": "stream",
     "text": [
      "training time:  609.5610165596008\n",
      "testing time:  321.30195474624634\n",
      "              precision    recall  f1-score   support\n",
      "\n",
      "           0       0.94      0.98      0.96     10000\n",
      "           1       0.66      0.43      0.52      1000\n",
      "\n",
      "    accuracy                           0.93     11000\n",
      "   macro avg       0.80      0.70      0.74     11000\n",
      "weighted avg       0.92      0.93      0.92     11000\n",
      "\n",
      "[[9781  219]\n",
      " [ 573  427]]\n"
     ]
    }
   ],
   "source": [
    "ansatz4 = ansatz_19.get_ansatz(4,3,2)\n",
    "vqc_1 = VQC(feature_map=fm,\n",
    "            ansatz=ansatz4,\n",
    "            optimizer=COBYLA(maxiter=100),\n",
    "            quantum_instance=QuantumInstance(BasicAer.get_backend('statevector_simulator'),\n",
    "                                            seed_simulator=seed, seed_transpiler= seed)\n",
    "            )\n",
    "start_time_train = time()\n",
    "vqc_1.fit(train_angles1,train_labels)\n",
    "end_time_train = time()\n",
    "y_1 = vqc_1.predict(test_angles1)\n",
    "end_time_test = time()\n",
    "label_1 = np.delete(y_1,1,1)\n",
    "print('training time: ',end_time_train-start_time_train)\n",
    "print('testing time: ',end_time_test-end_time_train)\n",
    "print(classification_report(test_labels_svm,label_1))\n",
    "print(confusion_matrix(test_labels_svm,label_1))"
   ]
  }
 ],
 "metadata": {
  "colab": {
   "collapsed_sections": [],
   "provenance": [
    {
     "file_id": "1N3JHjAbzZp3J_WbGWuTC_JgMPFdidUj9",
     "timestamp": 1668415059542
    }
   ]
  },
  "kernelspec": {
   "display_name": "Python 3 (ipykernel)",
   "language": "python",
   "name": "python3"
  },
  "language_info": {
   "codemirror_mode": {
    "name": "ipython",
    "version": 3
   },
   "file_extension": ".py",
   "mimetype": "text/x-python",
   "name": "python",
   "nbconvert_exporter": "python",
   "pygments_lexer": "ipython3",
   "version": "3.10.12"
  }
 },
 "nbformat": 4,
 "nbformat_minor": 4
}
