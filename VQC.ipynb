{
 "cells": [
  {
   "cell_type": "code",
   "execution_count": 9,
   "id": "3aea33f7-a9a7-4958-ac00-ec9d8f6b0637",
   "metadata": {},
   "outputs": [],
   "source": [
    "# Necessary imports\n",
    "\n",
    "import numpy as np\n",
    "import matplotlib.pyplot as plt\n",
    "\n",
    "from qiskit.circuit.library import *\n",
    "from qiskit.providers.aer import *\n",
    "\n",
    "from torch import Tensor\n",
    "from torch.nn import Linear, CrossEntropyLoss, MSELoss\n",
    "from torch.optim import LBFGS\n",
    "\n",
    "from qiskit import QuantumCircuit\n",
    "from qiskit import *\n",
    "from qiskit.circuit import Parameter\n",
    "from qiskit.circuit.library import RealAmplitudes, ZZFeatureMap\n",
    "from qiskit_algorithms.utils import algorithm_globals\n",
    "from qiskit_machine_learning.neural_networks import SamplerQNN, EstimatorQNN\n",
    "from qiskit_machine_learning.connectors import TorchConnector\n",
    "\n",
    "# Set seed for random generators\n",
    "algorithm_globals.random_seed = 42"
   ]
  },
  {
   "cell_type": "code",
   "execution_count": 1,
   "id": "e70003ab-143a-41a3-a2f3-af8e3433b869",
   "metadata": {},
   "outputs": [
    {
     "name": "stdout",
     "output_type": "stream",
     "text": [
      "Iteration: 0, loss: 2.343188762664795\n",
      "Iteration: 1, loss: 2.2014060020446777\n",
      "Iteration: 2, loss: 1.9895824193954468\n",
      "Iteration: 3, loss: 1.7329108715057373\n",
      "Iteration: 4, loss: 1.467564344406128\n",
      "Iteration: 5, loss: 1.2330716848373413\n",
      "Iteration: 6, loss: 1.0632938146591187\n",
      "Iteration: 7, loss: 0.9754740595817566\n",
      "Iteration: 8, loss: 0.9627001881599426\n",
      "Iteration: 9, loss: 0.9981807470321655\n"
     ]
    }
   ],
   "source": [
    "import torch\n",
    "from qiskit import QuantumCircuit\n",
    "from qiskit.circuit import ParameterVector\n",
    "from torch.nn import MSELoss\n",
    "\n",
    "from qiskit_machine_learning.connectors import TorchConnector\n",
    "from qiskit_machine_learning.neural_networks import EstimatorQNN\n",
    "\n",
    "fm = QuantumCircuit(2)\n",
    "input_parameters = ParameterVector(\"x\", 2)\n",
    "fm.ry(input_parameters[0], 0)\n",
    "fm.ry(input_parameters[1], 1)\n",
    "fm.cx(0, 1)\n",
    "\n",
    "ansatz = QuantumCircuit(2)\n",
    "weights = ParameterVector(\"w\", 4)\n",
    "\n",
    "ansatz.ry(weights[0], 0)\n",
    "ansatz.rz(weights[1], 0)\n",
    "ansatz.ry(weights[2], 1)\n",
    "ansatz.rz(weights[3], 1)\n",
    "ansatz.cx(0, 1)\n",
    "\n",
    "qnn_qc = QuantumCircuit(2)\n",
    "qnn_qc.compose(fm, inplace=True)\n",
    "qnn_qc.compose(ansatz, inplace=True)\n",
    "\n",
    "qnn = EstimatorQNN(circuit=qnn_qc, input_params=input_parameters, weight_params=weights)\n",
    "model = TorchConnector(qnn)\n",
    "\n",
    "features = torch.rand((20, 2))\n",
    "labels = torch.randint(0, 2, (20, 1)) * 2. - 1\n",
    "\n",
    "optimizer = torch.optim.Adam(model.parameters(), lr=0.1)\n",
    "criterion = MSELoss()\n",
    "\n",
    "for i in range(10):\n",
    "    optimizer.zero_grad()\n",
    "    loss = criterion(model(features), labels)\n",
    "    print(f\"Iteration: {i}, loss: {loss.item()}\")\n",
    "    loss.backward()\n",
    "    optimizer.step()"
   ]
  },
  {
   "cell_type": "code",
   "execution_count": 10,
   "id": "0b436c56-f203-43d8-a111-6249be0ccf61",
   "metadata": {},
   "outputs": [],
   "source": [
    "simulator_gpu = AerSimulator()\n",
    "simulator_gpu.set_options(device='GPU')"
   ]
  },
  {
   "cell_type": "code",
   "execution_count": 11,
   "id": "455c84c8-9ccb-4be3-ab97-56831523180b",
   "metadata": {},
   "outputs": [],
   "source": [
    "# Define and create QNN\n",
    "def create_qnn():\n",
    "    feature_map = ZZFeatureMap(2)\n",
    "    ansatz = RealAmplitudes(2, reps=1)\n",
    "    qc = QuantumCircuit(2)\n",
    "    qc.compose(feature_map, inplace=True)\n",
    "    qc.compose(ansatz, inplace=True)\n",
    "\n",
    "    # REMEMBER TO SET input_gradients=True FOR ENABLING HYBRID GRADIENT BACKPROP\n",
    "    qnn = EstimatorQNN(\n",
    "        circuit=qc,\n",
    "        input_params=feature_map.parameters,\n",
    "        weight_params=ansatz.parameters,\n",
    "        input_gradients=True,\n",
    "    )\n",
    "    return qnn\n",
    "\n",
    "\n",
    "qnn4 = create_qnn()\n",
    "\n"
   ]
  },
  {
   "cell_type": "code",
   "execution_count": null,
   "id": "9f02d4c6-c5e4-4685-8a4a-40376b908bbf",
   "metadata": {},
   "outputs": [],
   "source": []
  }
 ],
 "metadata": {
  "kernelspec": {
   "display_name": "Python 3 (ipykernel)",
   "language": "python",
   "name": "python3"
  },
  "language_info": {
   "codemirror_mode": {
    "name": "ipython",
    "version": 3
   },
   "file_extension": ".py",
   "mimetype": "text/x-python",
   "name": "python",
   "nbconvert_exporter": "python",
   "pygments_lexer": "ipython3",
   "version": "3.10.12"
  }
 },
 "nbformat": 4,
 "nbformat_minor": 5
}
